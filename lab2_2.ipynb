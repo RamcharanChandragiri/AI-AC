{
  "nbformat": 4,
  "nbformat_minor": 0,
  "metadata": {
    "colab": {
      "provenance": [],
      "authorship_tag": "ABX9TyPcXGqnb61GqzqPya5YvrCY",
      "include_colab_link": true
    },
    "kernelspec": {
      "name": "python3",
      "display_name": "Python 3"
    },
    "language_info": {
      "name": "python"
    }
  },
  "cells": [
    {
      "cell_type": "markdown",
      "metadata": {
        "id": "view-in-github",
        "colab_type": "text"
      },
      "source": [
        "<a href=\"https://colab.research.google.com/github/RamcharanChandragiri/AI-AC/blob/main/lab2_2.ipynb\" target=\"_parent\"><img src=\"https://colab.research.google.com/assets/colab-badge.svg\" alt=\"Open In Colab\"/></a>"
      ]
    },
    {
      "cell_type": "markdown",
      "source": [
        "task0:build apython function to check whether the given number is prime or not"
      ],
      "metadata": {
        "id": "zVsfdh93seFN"
      }
    },
    {
      "cell_type": "code",
      "execution_count": 1,
      "metadata": {
        "id": "vpbTYlm2rzx8",
        "colab": {
          "base_uri": "https://localhost:8080/"
        },
        "outputId": "ab8261b9-9aed-4ef6-ca88-50f9e6d0637c"
      },
      "outputs": [
        {
          "output_type": "stream",
          "name": "stdout",
          "text": [
            "True\n",
            "False\n"
          ]
        }
      ],
      "source": [
        "def is_prime(number):\n",
        "    \"\"\"\n",
        "    Checks if a given number is prime.\n",
        "\n",
        "    Args:\n",
        "        number: The integer to check.\n",
        "\n",
        "    Returns:\n",
        "        True if the number is prime, False otherwise.\n",
        "    \"\"\"\n",
        "    if number <= 1:\n",
        "        return False\n",
        "    for i in range(2, int(number**0.5) + 1):\n",
        "        if number % i == 0:\n",
        "            return False\n",
        "    return True\n",
        "\n",
        "# Example usage:\n",
        "print(is_prime(11))\n",
        "print(is_prime(4))"
      ]
    },
    {
      "cell_type": "markdown",
      "source": [],
      "metadata": {
        "id": "L4xwuagxuZyX"
      }
    },
    {
      "cell_type": "markdown",
      "source": [
        "for i in range(2, int(number**0.5) + 1):\n",
        "        if number % i == 0:\n",
        "            return False\n",
        "    return True\n",
        "\n",
        "This part of the code checks for divisors of the given number. It iterates through integers starting from 2 up to the square root of the number. If it finds any number that divides the number evenly (i.e., the remainder is 0), it means the number is not prime, and the function returns False. If the loop completes without finding any divisors, it means the number is prime, and the function returns True"
      ],
      "metadata": {
        "id": "mUJNNGbqvHDC"
      }
    },
    {
      "cell_type": "markdown",
      "source": [
        "Task 1:Use Gemini in Colab to write a function that filters out all negative numbers from a\n",
        "given list."
      ],
      "metadata": {
        "id": "X4tf5Vaf24-f"
      }
    },
    {
      "cell_type": "markdown",
      "source": [
        "prompt:create a python function that filters"
      ],
      "metadata": {
        "id": "HuL2y5Id3_eN"
      }
    },
    {
      "cell_type": "code",
      "source": [
        "def filter_negative_numbers(numbers):\n",
        "  \"\"\"\n",
        "  Filters out negative numbers from a list.\n",
        "\n",
        "  Args:\n",
        "    numbers: A list of numbers.\n",
        "\n",
        "  Returns:\n",
        "    A new list containing only the non-negative numbers from the input list.\n",
        "  \"\"\"\n",
        "  return [number for number in numbers if number >= 0]\n",
        "\n",
        "# Example usage:\n",
        "my_list = [1, -2, 3, -4, 5, 0, -6]\n",
        "filtered_list = filter_negative_numbers(my_list)\n",
        "print(filtered_list)"
      ],
      "metadata": {
        "id": "C01LqhYV2xxu"
      },
      "execution_count": null,
      "outputs": []
    },
    {
      "cell_type": "markdown",
      "source": [
        "This code defines a Python function called filter_negative_numbers that takes a list of numbers as input. It uses a list comprehension [number for number in numbers if number >= 0] to create a new list containing only the numbers from the input list that are greater than or equal to 0 (i.e., non-negative numbers). The function then returns this new list. The example usage demonstrates how to call this function with a sample list and print the resulting filtered list"
      ],
      "metadata": {
        "id": "pLWk1V8n4r_H"
      }
    },
    {
      "cell_type": "code",
      "source": [],
      "metadata": {
        "id": "3yZoICyv43Ag"
      },
      "execution_count": null,
      "outputs": []
    },
    {
      "cell_type": "markdown",
      "source": [
        "Task 2:Ask Gemini to generate code that reads a text file and counts the frequency of each\n",
        "word. Then ask it to explain the code."
      ],
      "metadata": {
        "id": "ZYDHs7SW5d4t"
      }
    },
    {
      "cell_type": "markdown",
      "source": [
        "prompt:write a python program which reads a text file and counts the frequency of each word\n"
      ],
      "metadata": {
        "id": "PWW7qM776u1c"
      }
    },
    {
      "cell_type": "code",
      "source": [
        "import re\n",
        "from collections import Counter\n",
        "\n",
        "def count_word_frequency(filename):\n",
        "  \"\"\"\n",
        "  Reads a text file and counts the frequency of each word.\n",
        "\n",
        "  Args:\n",
        "    filename: The name of the text file to read.\n",
        "\n",
        "  Returns:\n",
        "    A dictionary where keys are words and values are their frequencies.\n",
        "  \"\"\"\n",
        "  try:\n",
        "    with open(filename, 'r', encoding='utf-8') as file:\n",
        "      text = file.read().lower()\n",
        "      # Use regex to find words (alphanumeric sequences)\n",
        "      words = re.findall(r'\\b\\w+\\b', text)\n",
        "      word_counts = Counter(words)\n",
        "      return word_counts\n",
        "  except FileNotFoundError:\n",
        "    return f\"Error: File '{filename}' not found.\"\n",
        "  except Exception as e:\n",
        "    return f\"An error occurred: {e}\"\n",
        "\n",
        "# Example usage:\n",
        "# Create a dummy text file for demonstration\n",
        "with open('sample.txt', 'w', encoding='utf-8') as f:\n",
        "    f.write(\"This is a sample text file.\\n\")\n",
        "    f.write(\"This file is for testing word frequency counting.\\n\")\n",
        "    f.write(\"Testing, testing, one two three.\")\n",
        "\n",
        "word_frequencies = count_word_frequency('sample.txt')\n",
        "print(word_frequencies)"
      ],
      "metadata": {
        "id": "zcTAhh9W5vmd"
      },
      "execution_count": null,
      "outputs": []
    },
    {
      "cell_type": "markdown",
      "source": [
        "This code defines a function count_word_frequency that takes a filename as input to count the frequency of each word in the file.\n",
        "\n",
        "Here's a breakdown:\n",
        "\n",
        "import re and from collections import Counter: These lines import the necessary modules. re is used for regular expressions to find words, and Counter is a specialized dictionary subclass for counting hashable objects.\n",
        "def count_word_frequency(filename):: This defines the function that takes the filename as an argument.\n",
        "The try...except block is used for error handling, specifically for FileNotFoundError and other potential exceptions during file processing.\n",
        "with open(filename, 'r', encoding='utf-8') as file:: This opens the specified file in read mode ('r') with UTF-8 encoding. The with statement ensures the file is automatically closed even if errors occur.\n",
        "text = file.read().lower(): Reads the entire content of the file and converts it to lowercase to ensure case-insensitive word counting.\n",
        "words = re.findall(r'\\b\\w+\\b', text): Uses a regular expression r'\\b\\w+\\b' to find all sequences of alphanumeric characters (\\w+) that are whole words (\\b word boundaries) in the text.\n",
        "word_counts = Counter(words): Creates a Counter object from the list of words, which automatically counts the frequency of each unique word.\n",
        "return word_counts: Returns the dictionary-like Counter object containing word frequencies.\n",
        "The example usage part of the code first creates a dummy text file named sample.txt and then calls the count_word_frequency function with this filename and prints the resulting word frequencies."
      ],
      "metadata": {
        "id": "bnJgVfEE6pPn"
      }
    },
    {
      "cell_type": "code",
      "source": [],
      "metadata": {
        "id": "AoqGeqoE699q"
      },
      "execution_count": null,
      "outputs": []
    }
  ]
}