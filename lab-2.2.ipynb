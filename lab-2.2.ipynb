{
  "nbformat": 4,
  "nbformat_minor": 0,
  "metadata": {
    "colab": {
      "provenance": [],
      "authorship_tag": "ABX9TyO8sUANn1d65Iv1c1Rrcskz",
      "include_colab_link": true
    },
    "kernelspec": {
      "name": "python3",
      "display_name": "Python 3"
    },
    "language_info": {
      "name": "python"
    }
  },
  "cells": [
    {
      "cell_type": "markdown",
      "metadata": {
        "id": "view-in-github",
        "colab_type": "text"
      },
      "source": [
        "<a href=\"https://colab.research.google.com/github/RamcharanChandragiri/AI-AC/blob/main/lab2_2.ipynb\" target=\"_parent\"><img src=\"https://colab.research.google.com/assets/colab-badge.svg\" alt=\"Open In Colab\"/></a>"
      ]
    },
    {
      "cell_type": "markdown",
      "source": [
        "task0:build apython function to check whether the given number is prime or not"
      ],
      "metadata": {
        "id": "zVsfdh93seFN"
      }
    },
    {
      "cell_type": "code",
      "execution_count": 1,
      "metadata": {
        "id": "vpbTYlm2rzx8",
        "colab": {
          "base_uri": "https://localhost:8080/"
        },
        "outputId": "ab8261b9-9aed-4ef6-ca88-50f9e6d0637c"
      },
      "outputs": [
        {
          "output_type": "stream",
          "name": "stdout",
          "text": [
            "True\n",
            "False\n"
          ]
        }
      ],
      "source": [
        "def is_prime(number):\n",
        "    \"\"\"\n",
        "    Checks if a given number is prime.\n",
        "\n",
        "    Args:\n",
        "        number: The integer to check.\n",
        "\n",
        "    Returns:\n",
        "        True if the number is prime, False otherwise.\n",
        "    \"\"\"\n",
        "    if number <= 1:\n",
        "        return False\n",
        "    for i in range(2, int(number**0.5) + 1):\n",
        "        if number % i == 0:\n",
        "            return False\n",
        "    return True\n",
        "\n",
        "# Example usage:\n",
        "print(is_prime(11))\n",
        "print(is_prime(4))"
      ]
    },
    {
      "cell_type": "markdown",
      "source": [],
      "metadata": {
        "id": "L4xwuagxuZyX"
      }
    },
    {
      "cell_type": "markdown",
      "source": [
        "for i in range(2, int(number**0.5) + 1):\n",
        "        if number % i == 0:\n",
        "            return False\n",
        "    return True\n",
        "\n",
        "This part of the code checks for divisors of the given number. It iterates through integers starting from 2 up to the square root of the number. If it finds any number that divides the number evenly (i.e., the remainder is 0), it means the number is not prime, and the function returns False. If the loop completes without finding any divisors, it means the number is prime, and the function returns True"
      ],
      "metadata": {
        "id": "mUJNNGbqvHDC"
      }
    },
    {
      "cell_type": "markdown",
      "source": [
        "Task 1:Use Gemini in Colab to write a function that filters out all negative numbers from a\n",
        "given list."
      ],
      "metadata": {
        "id": "X4tf5Vaf24-f"
      }
    },
    {
      "cell_type": "markdown",
      "source": [
        "prompt:create a python function that filters"
      ],
      "metadata": {
        "id": "HuL2y5Id3_eN"
      }
    },
    {
      "cell_type": "code",
      "source": [
        "def filter_negative_numbers(numbers):\n",
        "  \"\"\"\n",
        "  Filters out negative numbers from a list.\n",
        "\n",
        "  Args:\n",
        "    numbers: A list of numbers.\n",
        "\n",
        "  Returns:\n",
        "    A new list containing only the non-negative numbers from the input list.\n",
        "  \"\"\"\n",
        "  return [number for number in numbers if number >= 0]\n",
        "\n",
        "# Example usage:\n",
        "my_list = [1, -2, 3, -4, 5, 0, -6]\n",
        "filtered_list = filter_negative_numbers(my_list)\n",
        "print(filtered_list)"
      ],
      "metadata": {
        "id": "C01LqhYV2xxu"
      },
      "execution_count": null,
      "outputs": []
    },
    {
      "cell_type": "markdown",
      "source": [
        "This code defines a Python function called filter_negative_numbers that takes a list of numbers as input. It uses a list comprehension [number for number in numbers if number >= 0] to create a new list containing only the numbers from the input list that are greater than or equal to 0 (i.e., non-negative numbers). The function then returns this new list. The example usage demonstrates how to call this function with a sample list and print the resulting filtered list"
      ],
      "metadata": {
        "id": "pLWk1V8n4r_H"
      }
    },
    {
      "cell_type": "code",
      "source": [],
      "metadata": {
        "id": "3yZoICyv43Ag"
      },
      "execution_count": null,
      "outputs": []
    },
    {
      "cell_type": "markdown",
      "source": [
        "Task 2:Ask Gemini to generate code that reads a text file and counts the frequency of each\n",
        "word. Then ask it to explain the code."
      ],
      "metadata": {
        "id": "ZYDHs7SW5d4t"
      }
    },
    {
      "cell_type": "markdown",
      "source": [
        "prompt:write a python program which reads a text file and counts the frequency of each word\n"
      ],
      "metadata": {
        "id": "PWW7qM776u1c"
      }
    },
    {
      "cell_type": "code",
      "source": [
        "import re\n",
        "from collections import Counter\n",
        "\n",
        "def count_word_frequency(filename):\n",
        "  \"\"\"\n",
        "  Reads a text file and counts the frequency of each word.\n",
        "\n",
        "  Args:\n",
        "    filename: The name of the text file to read.\n",
        "\n",
        "  Returns:\n",
        "    A dictionary where keys are words and values are their frequencies.\n",
        "  \"\"\"\n",
        "  try:\n",
        "    with open(filename, 'r', encoding='utf-8') as file:\n",
        "      text = file.read().lower()\n",
        "      # Use regex to find words (alphanumeric sequences)\n",
        "      words = re.findall(r'\\b\\w+\\b', text)\n",
        "      word_counts = Counter(words)\n",
        "      return word_counts\n",
        "  except FileNotFoundError:\n",
        "    return f\"Error: File '{filename}' not found.\"\n",
        "  except Exception as e:\n",
        "    return f\"An error occurred: {e}\"\n",
        "\n",
        "# Example usage:\n",
        "# Create a dummy text file for demonstration\n",
        "with open('sample.txt', 'w', encoding='utf-8') as f:\n",
        "    f.write(\"This is a sample text file.\\n\")\n",
        "    f.write(\"This file is for testing word frequency counting.\\n\")\n",
        "    f.write(\"Testing, testing, one two three.\")\n",
        "\n",
        "word_frequencies = count_word_frequency('sample.txt')\n",
        "print(word_frequencies)"
      ],
      "metadata": {
        "id": "zcTAhh9W5vmd"
      },
      "execution_count": null,
      "outputs": []
    },
    {
      "cell_type": "markdown",
      "source": [
        "This code defines a function count_word_frequency that takes a filename as input to count the frequency of each word in the file.\n",
        "\n",
        "Here's a breakdown:\n",
        "\n",
        "import re and from collections import Counter: These lines import the necessary modules. re is used for regular expressions to find words, and Counter is a specialized dictionary subclass for counting hashable objects.\n",
        "def count_word_frequency(filename):: This defines the function that takes the filename as an argument.\n",
        "The try...except block is used for error handling, specifically for FileNotFoundError and other potential exceptions during file processing.\n",
        "with open(filename, 'r', encoding='utf-8') as file:: This opens the specified file in read mode ('r') with UTF-8 encoding. The with statement ensures the file is automatically closed even if errors occur.\n",
        "text = file.read().lower(): Reads the entire content of the file and converts it to lowercase to ensure case-insensitive word counting.\n",
        "words = re.findall(r'\\b\\w+\\b', text): Uses a regular expression r'\\b\\w+\\b' to find all sequences of alphanumeric characters (\\w+) that are whole words (\\b word boundaries) in the text.\n",
        "word_counts = Counter(words): Creates a Counter object from the list of words, which automatically counts the frequency of each unique word.\n",
        "return word_counts: Returns the dictionary-like Counter object containing word frequencies.\n",
        "The example usage part of the code first creates a dummy text file named sample.txt and then calls the count_word_frequency function with this filename and prints the resulting word frequencies."
      ],
      "metadata": {
        "id": "bnJgVfEE6pPn"
      }
    },
    {
      "cell_type": "code",
      "source": [],
      "metadata": {
        "id": "AoqGeqoE699q"
      },
      "execution_count": null,
      "outputs": []
    },
    {
      "cell_type": "markdown",
      "source": [
        "Task-03:Use AI to generate a Python class called Book with attributes title, author, and\n",
        "a method summary() that prints the details"
      ],
      "metadata": {
        "id": "f_sT08Y-7Ml2"
      }
    },
    {
      "cell_type": "markdown",
      "source": [
        "create a python class called book with the attributes title,author,and a method called summary() that prints all the details"
      ],
      "metadata": {
        "id": "E455FEHs8T_6"
      }
    },
    {
      "cell_type": "code",
      "source": [
        "class Book:\n",
        "    \"\"\"\n",
        "    Represents a book with a title and author.\n",
        "    \"\"\"\n",
        "    def __init__(self, title, author):\n",
        "        \"\"\"\n",
        "        Initializes a new Book instance.\n",
        "\n",
        "        Args:\n",
        "            title: The title of the book.\n",
        "            author: The author of the book.\n",
        "        \"\"\"\n",
        "        self.title = title\n",
        "        self.author = author\n",
        "\n",
        "    def summary(self):\n",
        "        \"\"\"\n",
        "        Prints the details of the book.\n",
        "        \"\"\"\n",
        "        print(f\"Title: {self.title}\")\n",
        "        print(f\"Author: {self.author}\")\n",
        "\n",
        "# Example usage:\n",
        "my_book = Book(\"The Hitchhiker's Guide to the Galaxy\", \"Douglas Adams\")\n",
        "my_book.summary()"
      ],
      "metadata": {
        "colab": {
          "base_uri": "https://localhost:8080/"
        },
        "id": "O95VNy5h8AvT",
        "outputId": "d9e414ea-7999-4f6d-8465-f64c48900b4d"
      },
      "execution_count": 2,
      "outputs": [
        {
          "output_type": "stream",
          "name": "stdout",
          "text": [
            "Title: The Hitchhiker's Guide to the Galaxy\n",
            "Author: Douglas Adams\n"
          ]
        }
      ]
    },
    {
      "cell_type": "markdown",
      "source": [
        "EXPLANATION:\n",
        "The code starts with creating a python class named book.\n",
        "\n",
        "class Book:: This line declares the beginning of the Book class definition.\n",
        "\"\"\" Represents a book with a title and author. \"\"\": This is a docstring that explains the purpose of the class.\n",
        "def __init__(self, title, author):: This is the constructor method. It's called when you create a new Book object. It takes self (a reference to the object itself), title, and author as arguments. Inside this method, it initializes the title and author attributes of the object using the provided values.\n",
        "def summary(self):: This defines a method named summary within the Book class. It takes self as an argument.\n",
        "print(f\"Title: {self.title}\") and print(f\"Author: {self.author}\"): These lines within the summary method print the title and author attributes of the specific Book object.\n",
        "The example usage part shows how to create an instance of the Book class named my_book with a title and author, and then calls the summary() method on that object to print its details.\n"
      ],
      "metadata": {
        "id": "ZXDEl5zP9Bvb"
      }
    },
    {
      "cell_type": "code",
      "source": [],
      "metadata": {
        "id": "1gAGHCW__3tv"
      },
      "execution_count": null,
      "outputs": []
    },
    {
      "cell_type": "markdown",
      "source": [
        "Task-04:write a python program that checks whether the given number is a armstrong number or not"
      ],
      "metadata": {
        "id": "uYGcH0jH_-QH"
      }
    },
    {
      "cell_type": "code",
      "source": [
        "def is_armstrong_number(number):\n",
        "    \"\"\"\n",
        "    Checks if a number is an Armstrong number.\n",
        "\n",
        "    An Armstrong number is a number that is the sum of its own digits each raised to the power of the number of digits.\n",
        "\n",
        "    Args:\n",
        "        number: The integer to check.\n",
        "\n",
        "    Returns:\n",
        "        True if the number is an Armstrong number, False otherwise.\n",
        "    \"\"\"\n",
        "    # Convert the number to a string to find the number of digits\n",
        "    num_str = str(number)\n",
        "    num_digits = len(num_str)\n",
        "\n",
        "    # Calculate the sum of each digit raised to the power of the number of digits\n",
        "    armstrong_sum = 0\n",
        "    for digit in num_str:\n",
        "        armstrong_sum += int(digit) ** num_digits\n",
        "\n",
        "    # Check if the calculated sum is equal to the original number\n",
        "    return armstrong_sum == number\n",
        "\n",
        "# Example usage:\n",
        "print(is_armstrong_number(153))  # 1^3 + 5^3 + 3^3 = 1 + 125 + 27 = 153\n",
        "print(is_armstrong_number(9))    # 9^1 = 9\n",
        "print(is_armstrong_number(10))   # 1^2 + 0^2 = 1 + 0 = 1\n",
        "print(is_armstrong_number(370))  # 3^3 + 7^3 + 0^3 = 27 + 343 + 0 = 370"
      ],
      "metadata": {
        "colab": {
          "base_uri": "https://localhost:8080/"
        },
        "id": "8osqo-LFAGAS",
        "outputId": "e59db59b-4c72-461a-cbc6-3112e81bfe99"
      },
      "execution_count": 3,
      "outputs": [
        {
          "output_type": "stream",
          "name": "stdout",
          "text": [
            "True\n",
            "True\n",
            "False\n",
            "True\n"
          ]
        }
      ]
    },
    {
      "cell_type": "code",
      "source": [],
      "metadata": {
        "id": "aHxUrvcYMGW5"
      },
      "execution_count": null,
      "outputs": []
    },
    {
      "cell_type": "markdown",
      "source": [
        "EXPLANATION:\n",
        "The code is written in python\n",
        "The code starts with the function is_armstrong_number() to find the given number is armstrong or not.\n",
        "It takes an argument number.\n",
        "then converts the argument into the string to find the length of the number.\n",
        "The armstrong number defines that the sum of each digit raised to the power of the digits.\n",
        "Then the for loop iterates through the digits and calculates the sum raised to the power of the digits.\n",
        "The armstrong_sum calculates the sum of the calculated values.\n",
        "Then it returns the boolean expression whether the given number is armstrong or not.\n",
        "In the above code the example provided are  153 ,9,10,370 the outputs are True,True,False and true respectively.\n",
        "\n"
      ],
      "metadata": {
        "id": "jCJYBMi1MH0J"
      }
    },
    {
      "cell_type": "code",
      "source": [],
      "metadata": {
        "id": "tBhargGHPoqW"
      },
      "execution_count": null,
      "outputs": []
    },
    {
      "cell_type": "markdown",
      "source": [
        "Task-05: By using AI generate code  to sort a list of dictionaries by a specific key."
      ],
      "metadata": {
        "id": "b3M0DtOrPq4O"
      }
    },
    {
      "cell_type": "markdown",
      "source": [
        "Prompt:\n",
        "Write a python code to sort the list of dictionaries by a specific key."
      ],
      "metadata": {
        "id": "TG2qkG8UQtKr"
      }
    },
    {
      "cell_type": "code",
      "source": [],
      "metadata": {
        "id": "A5LA_ZoTQhJ5"
      },
      "execution_count": null,
      "outputs": []
    },
    {
      "cell_type": "code",
      "metadata": {
        "colab": {
          "base_uri": "https://localhost:8080/"
        },
        "id": "f3796f80",
        "outputId": "043fd7a5-c900-49c6-e8f1-9db669cfddd3"
      },
      "source": [
        "def sort_list_of_dictionaries(list_of_dicts, key_to_sort_by):\n",
        "  \"\"\"\n",
        "  Sorts a list of dictionaries by a specific key.\n",
        "\n",
        "  Args:\n",
        "    list_of_dicts: The list of dictionaries to sort.\n",
        "    key_to_sort_by: The key in the dictionaries to sort by.\n",
        "\n",
        "  Returns:\n",
        "    A new list of dictionaries sorted by the specified key.\n",
        "  \"\"\"\n",
        "  return sorted(list_of_dicts, key=lambda x: x[key_to_sort_by])\n",
        "\n",
        "# Example usage:\n",
        "data = [\n",
        "    {'name': 'Alice', 'age': 30},\n",
        "    {'name': 'Bob', 'age': 25},\n",
        "    {'name': 'Charlie', 'age': 35}\n",
        "]\n",
        "\n",
        "sorted_data = sort_list_of_dictionaries(data, 'age')\n",
        "print(sorted_data)\n",
        "\n",
        "sorted_data_by_name = sort_list_of_dictionaries(data, 'name')\n",
        "print(sorted_data_by_name)"
      ],
      "execution_count": 4,
      "outputs": [
        {
          "output_type": "stream",
          "name": "stdout",
          "text": [
            "[{'name': 'Bob', 'age': 25}, {'name': 'Alice', 'age': 30}, {'name': 'Charlie', 'age': 35}]\n",
            "[{'name': 'Alice', 'age': 30}, {'name': 'Bob', 'age': 25}, {'name': 'Charlie', 'age': 35}]\n"
          ]
        }
      ]
    },
    {
      "cell_type": "markdown",
      "source": [
        "EXPLANATION:\n",
        "The code written in python starts  with a function sort_list_of_dictionaries accepts an arguments list of arguments and the key to sort the list of dictionaries.\n",
        "Returns a new list of sorted dictionaries.\n",
        "The code accepts the input of dictionaries a key value pair a key to sort the elements on the basis of which key.\n",
        "According to the example provided in the above code a list of three dictionaries with the key value pairs of name and the age.\n",
        "Then we get the output according to the key we selected. In the first scenario we selected the key as age then it sorted the list of dictionaries according to the age.\n",
        "Then in the next scenario the kay selected is name then it sorted according to the alphabetical order of the name provide names.\n",
        "It returns an output sorted list."
      ],
      "metadata": {
        "id": "DoNzhIAFRT0E"
      }
    },
    {
      "cell_type": "code",
      "source": [],
      "metadata": {
        "id": "xhhDgm8eXIxj"
      },
      "execution_count": null,
      "outputs": []
    }
  ]
}
