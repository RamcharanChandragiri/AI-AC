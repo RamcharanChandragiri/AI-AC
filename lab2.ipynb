{
  "nbformat": 4,
  "nbformat_minor": 0,
  "metadata": {
    "colab": {
      "provenance": [],
      "authorship_tag": "ABX9TyNWs8c8Ol6gQJo3NWCaBh8e",
      "include_colab_link": true
    },
    "kernelspec": {
      "name": "python3",
      "display_name": "Python 3"
    },
    "language_info": {
      "name": "python"
    }
  },
  "cells": [
    {
      "cell_type": "markdown",
      "metadata": {
        "id": "view-in-github",
        "colab_type": "text"
      },
      "source": [
        "<a href=\"https://colab.research.google.com/github/RamcharanChandragiri/AI-AC/blob/main/lab2.ipynb\" target=\"_parent\"><img src=\"https://colab.research.google.com/assets/colab-badge.svg\" alt=\"Open In Colab\"/></a>"
      ]
    },
    {
      "cell_type": "markdown",
      "source": [
        "task0:build apython function to check whether the given number is prime or not"
      ],
      "metadata": {
        "id": "zVsfdh93seFN"
      }
    },
    {
      "cell_type": "code",
      "execution_count": 1,
      "metadata": {
        "id": "vpbTYlm2rzx8",
        "colab": {
          "base_uri": "https://localhost:8080/"
        },
        "outputId": "ab8261b9-9aed-4ef6-ca88-50f9e6d0637c"
      },
      "outputs": [
        {
          "output_type": "stream",
          "name": "stdout",
          "text": [
            "True\n",
            "False\n"
          ]
        }
      ],
      "source": [
        "def is_prime(number):\n",
        "    \"\"\"\n",
        "    Checks if a given number is prime.\n",
        "\n",
        "    Args:\n",
        "        number: The integer to check.\n",
        "\n",
        "    Returns:\n",
        "        True if the number is prime, False otherwise.\n",
        "    \"\"\"\n",
        "    if number <= 1:\n",
        "        return False\n",
        "    for i in range(2, int(number**0.5) + 1):\n",
        "        if number % i == 0:\n",
        "            return False\n",
        "    return True\n",
        "\n",
        "# Example usage:\n",
        "print(is_prime(11))\n",
        "print(is_prime(4))"
      ]
    },
    {
      "cell_type": "markdown",
      "source": [],
      "metadata": {
        "id": "L4xwuagxuZyX"
      }
    },
    {
      "cell_type": "markdown",
      "source": [
        "for i in range(2, int(number**0.5) + 1):\n",
        "        if number % i == 0:\n",
        "            return False\n",
        "    return True\n",
        "\n",
        "This part of the code checks for divisors of the given number. It iterates through integers starting from 2 up to the square root of the number. If it finds any number that divides the number evenly (i.e., the remainder is 0), it means the number is not prime, and the function returns False. If the loop completes without finding any divisors, it means the number is prime, and the function returns True"
      ],
      "metadata": {
        "id": "mUJNNGbqvHDC"
      }
    },
    {
      "cell_type": "markdown",
      "source": [
        "Task 1:Use Gemini in Colab to write a function that filters out all negative numbers from a\n",
        "given list."
      ],
      "metadata": {
        "id": "X4tf5Vaf24-f"
      }
    },
    {
      "cell_type": "markdown",
      "source": [
        "prompt:create a python function that filters"
      ],
      "metadata": {
        "id": "HuL2y5Id3_eN"
      }
    },
    {
      "cell_type": "code",
      "source": [
        "def filter_negative_numbers(numbers):\n",
        "  \"\"\"\n",
        "  Filters out negative numbers from a list.\n",
        "\n",
        "  Args:\n",
        "    numbers: A list of numbers.\n",
        "\n",
        "  Returns:\n",
        "    A new list containing only the non-negative numbers from the input list.\n",
        "  \"\"\"\n",
        "  return [number for number in numbers if number >= 0]\n",
        "\n",
        "# Example usage:\n",
        "my_list = [1, -2, 3, -4, 5, 0, -6]\n",
        "filtered_list = filter_negative_numbers(my_list)\n",
        "print(filtered_list)"
      ],
      "metadata": {
        "id": "C01LqhYV2xxu"
      },
      "execution_count": null,
      "outputs": []
    },
    {
      "cell_type": "markdown",
      "source": [
        "This code defines a Python function called filter_negative_numbers that takes a list of numbers as input. It uses a list comprehension [number for number in numbers if number >= 0] to create a new list containing only the numbers from the input list that are greater than or equal to 0 (i.e., non-negative numbers). The function then returns this new list. The example usage demonstrates how to call this function with a sample list and print the resulting filtered list"
      ],
      "metadata": {
        "id": "pLWk1V8n4r_H"
      }
    },
    {
      "cell_type": "code",
      "source": [],
      "metadata": {
        "id": "3yZoICyv43Ag"
      },
      "execution_count": null,
      "outputs": []
    }
  ]
}